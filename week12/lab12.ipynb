{
 "cells": [
  {
   "cell_type": "code",
   "execution_count": 1,
   "id": "3cb61211",
   "metadata": {},
   "outputs": [],
   "source": [
    "import warnings\n",
    "\n",
    "warnings.filterwarnings(\"ignore\")"
   ]
  },
  {
   "cell_type": "markdown",
   "id": "bb169f48",
   "metadata": {},
   "source": [
    "# Lab Week 12: Inequality\n",
    "\n",
    "This week's lesson is a simplied version of:\n",
    "- https://github.com/pysal/segregation/blob/main/notebooks/01_singlegroup_indices.ipynb\n",
    "- https://github.com/pysal/segregation/blob/main/notebooks/04_multiscalar_example.ipynb\n"
   ]
  },
  {
   "cell_type": "markdown",
   "id": "disciplinary-colon",
   "metadata": {},
   "source": [
    "## Data Prep: Sacramento"
   ]
  },
  {
   "cell_type": "code",
   "execution_count": 2,
   "id": "identical-authentication",
   "metadata": {},
   "outputs": [],
   "source": [
    "import geopandas as gpd\n",
    "import matplotlib.pyplot as plt\n",
    "from libpysal.examples import load_example"
   ]
  },
  {
   "cell_type": "code",
   "execution_count": 3,
   "id": "actual-valley",
   "metadata": {},
   "outputs": [],
   "source": [
    "# read in sacramento data from libpysal and reproject into an appropriate CRS\n",
    "sacramento = gpd.read_file(load_example(\"Sacramento1\").get_path(\"sacramentot2.shp\"))\n",
    "sacramento = sacramento.to_crs(sacramento.estimate_utm_crs())"
   ]
  },
  {
   "cell_type": "code",
   "execution_count": 4,
   "id": "grand-manitoba",
   "metadata": {},
   "outputs": [
    {
     "data": {
      "text/html": [
       "<div>\n",
       "<style scoped>\n",
       "    .dataframe tbody tr th:only-of-type {\n",
       "        vertical-align: middle;\n",
       "    }\n",
       "\n",
       "    .dataframe tbody tr th {\n",
       "        vertical-align: top;\n",
       "    }\n",
       "\n",
       "    .dataframe thead th {\n",
       "        text-align: right;\n",
       "    }\n",
       "</style>\n",
       "<table border=\"1\" class=\"dataframe\">\n",
       "  <thead>\n",
       "    <tr style=\"text-align: right;\">\n",
       "      <th></th>\n",
       "      <th>FIPS</th>\n",
       "      <th>MSA</th>\n",
       "      <th>TOT_POP</th>\n",
       "      <th>POP_16</th>\n",
       "      <th>POP_65</th>\n",
       "      <th>WHITE</th>\n",
       "      <th>BLACK</th>\n",
       "      <th>ASIAN</th>\n",
       "      <th>HISP</th>\n",
       "      <th>MULTI_RA</th>\n",
       "      <th>...</th>\n",
       "      <th>EMP_FEM</th>\n",
       "      <th>OCC_MAN</th>\n",
       "      <th>OCC_OFF1</th>\n",
       "      <th>OCC_INFO</th>\n",
       "      <th>HH_INC</th>\n",
       "      <th>POV_POP</th>\n",
       "      <th>POV_TOT</th>\n",
       "      <th>HSG_VAL</th>\n",
       "      <th>POLYID</th>\n",
       "      <th>geometry</th>\n",
       "    </tr>\n",
       "  </thead>\n",
       "  <tbody>\n",
       "    <tr>\n",
       "      <th>0</th>\n",
       "      <td>06061022001</td>\n",
       "      <td>Sacramento</td>\n",
       "      <td>5501</td>\n",
       "      <td>1077</td>\n",
       "      <td>518</td>\n",
       "      <td>4961</td>\n",
       "      <td>29</td>\n",
       "      <td>82</td>\n",
       "      <td>336</td>\n",
       "      <td>31</td>\n",
       "      <td>...</td>\n",
       "      <td>1187</td>\n",
       "      <td>117</td>\n",
       "      <td>663.0</td>\n",
       "      <td>42</td>\n",
       "      <td>52941</td>\n",
       "      <td>5461</td>\n",
       "      <td>470</td>\n",
       "      <td>225900</td>\n",
       "      <td>1</td>\n",
       "      <td>POLYGON ((740409.853 4338451.728, 740199.864 4...</td>\n",
       "    </tr>\n",
       "    <tr>\n",
       "      <th>1</th>\n",
       "      <td>06061020106</td>\n",
       "      <td>Sacramento</td>\n",
       "      <td>2072</td>\n",
       "      <td>396</td>\n",
       "      <td>109</td>\n",
       "      <td>1603</td>\n",
       "      <td>0</td>\n",
       "      <td>28</td>\n",
       "      <td>391</td>\n",
       "      <td>41</td>\n",
       "      <td>...</td>\n",
       "      <td>522</td>\n",
       "      <td>38</td>\n",
       "      <td>229.0</td>\n",
       "      <td>19</td>\n",
       "      <td>51958</td>\n",
       "      <td>2052</td>\n",
       "      <td>160</td>\n",
       "      <td>249300</td>\n",
       "      <td>2</td>\n",
       "      <td>POLYGON ((753400.378 4347151.080, 753395.816 4...</td>\n",
       "    </tr>\n",
       "    <tr>\n",
       "      <th>2</th>\n",
       "      <td>06061020107</td>\n",
       "      <td>Sacramento</td>\n",
       "      <td>3633</td>\n",
       "      <td>911</td>\n",
       "      <td>126</td>\n",
       "      <td>1624</td>\n",
       "      <td>9</td>\n",
       "      <td>0</td>\n",
       "      <td>1918</td>\n",
       "      <td>41</td>\n",
       "      <td>...</td>\n",
       "      <td>698</td>\n",
       "      <td>86</td>\n",
       "      <td>197.0</td>\n",
       "      <td>0</td>\n",
       "      <td>32992</td>\n",
       "      <td>3604</td>\n",
       "      <td>668</td>\n",
       "      <td>175900</td>\n",
       "      <td>3</td>\n",
       "      <td>POLYGON ((758318.262 4352123.456, 758319.774 4...</td>\n",
       "    </tr>\n",
       "    <tr>\n",
       "      <th>3</th>\n",
       "      <td>06061020105</td>\n",
       "      <td>Sacramento</td>\n",
       "      <td>1683</td>\n",
       "      <td>281</td>\n",
       "      <td>154</td>\n",
       "      <td>1564</td>\n",
       "      <td>0</td>\n",
       "      <td>55</td>\n",
       "      <td>60</td>\n",
       "      <td>4</td>\n",
       "      <td>...</td>\n",
       "      <td>519</td>\n",
       "      <td>5</td>\n",
       "      <td>256.0</td>\n",
       "      <td>6</td>\n",
       "      <td>54556</td>\n",
       "      <td>1683</td>\n",
       "      <td>116</td>\n",
       "      <td>302300</td>\n",
       "      <td>4</td>\n",
       "      <td>POLYGON ((750839.595 4342678.807, 750805.840 4...</td>\n",
       "    </tr>\n",
       "    <tr>\n",
       "      <th>4</th>\n",
       "      <td>06061020200</td>\n",
       "      <td>Sacramento</td>\n",
       "      <td>5794</td>\n",
       "      <td>1278</td>\n",
       "      <td>830</td>\n",
       "      <td>5185</td>\n",
       "      <td>17</td>\n",
       "      <td>13</td>\n",
       "      <td>251</td>\n",
       "      <td>229</td>\n",
       "      <td>...</td>\n",
       "      <td>1260</td>\n",
       "      <td>155</td>\n",
       "      <td>506.0</td>\n",
       "      <td>59</td>\n",
       "      <td>50815</td>\n",
       "      <td>5771</td>\n",
       "      <td>342</td>\n",
       "      <td>167300</td>\n",
       "      <td>5</td>\n",
       "      <td>POLYGON ((670062.020 4311030.409, 670133.819 4...</td>\n",
       "    </tr>\n",
       "  </tbody>\n",
       "</table>\n",
       "<p>5 rows × 31 columns</p>\n",
       "</div>"
      ],
      "text/plain": [
       "          FIPS         MSA  TOT_POP  POP_16  POP_65  WHITE  BLACK  ASIAN  \\\n",
       "0  06061022001  Sacramento     5501    1077     518   4961     29     82   \n",
       "1  06061020106  Sacramento     2072     396     109   1603      0     28   \n",
       "2  06061020107  Sacramento     3633     911     126   1624      9      0   \n",
       "3  06061020105  Sacramento     1683     281     154   1564      0     55   \n",
       "4  06061020200  Sacramento     5794    1278     830   5185     17     13   \n",
       "\n",
       "   HISP  MULTI_RA  ...  EMP_FEM  OCC_MAN  OCC_OFF1  OCC_INFO  HH_INC  POV_POP  \\\n",
       "0   336        31  ...     1187      117     663.0        42   52941     5461   \n",
       "1   391        41  ...      522       38     229.0        19   51958     2052   \n",
       "2  1918        41  ...      698       86     197.0         0   32992     3604   \n",
       "3    60         4  ...      519        5     256.0         6   54556     1683   \n",
       "4   251       229  ...     1260      155     506.0        59   50815     5771   \n",
       "\n",
       "   POV_TOT  HSG_VAL  POLYID                                           geometry  \n",
       "0      470   225900       1  POLYGON ((740409.853 4338451.728, 740199.864 4...  \n",
       "1      160   249300       2  POLYGON ((753400.378 4347151.080, 753395.816 4...  \n",
       "2      668   175900       3  POLYGON ((758318.262 4352123.456, 758319.774 4...  \n",
       "3      116   302300       4  POLYGON ((750839.595 4342678.807, 750805.840 4...  \n",
       "4      342   167300       5  POLYGON ((670062.020 4311030.409, 670133.819 4...  \n",
       "\n",
       "[5 rows x 31 columns]"
      ]
     },
     "execution_count": 4,
     "metadata": {},
     "output_type": "execute_result"
    }
   ],
   "source": [
    "sacramento.head()"
   ]
  },
  {
   "cell_type": "code",
   "execution_count": 5,
   "id": "assumed-hearing",
   "metadata": {},
   "outputs": [
    {
     "data": {
      "text/plain": [
       "<Axes: >"
      ]
     },
     "execution_count": 5,
     "metadata": {},
     "output_type": "execute_result"
    },
    {
     "data": {
      "image/png": "[encoded data removed]",
      "text/plain": [
       "<Figure size 640x480 with 1 Axes>"
      ]
     },
     "metadata": {},
     "output_type": "display_data"
    }
   ],
   "source": [
    "sacramento.plot('BLACK')"
   ]
  },
  {
   "cell_type": "markdown",
   "id": "5c61c19a",
   "metadata": {},
   "source": [
    "## Network Distance-based Inequality Measures"
   ]
  },
  {
   "cell_type": "markdown",
   "id": "cc91e03d",
   "metadata": {},
   "source": [
    "Instead of a euclidian distance-based kernel, each generalized spatial segregation index can be calculated using accssibility analysis on a transportation network instead. Since people can't fly, using a travel network to measure spatial distances is more conceptually pure to the spirit of segregation indices "
   ]
  },
  {
   "cell_type": "code",
   "execution_count": 9,
   "id": "7a819876",
   "metadata": {},
   "outputs": [],
   "source": [
    "import pandana as pdna\n",
    "from segregation.singlegroup import AbsoluteCentralization, Gini"
   ]
  },
  {
   "cell_type": "markdown",
   "id": "5732dc44",
   "metadata": {},
   "source": [
    "A network can be created using the [urbanaccess](https://github.com/UDST/urbanaccess) package, or the built-in `get_osm_network` function from the `segregation.util` module. Alternatively, metropolitan-scale networks from OpenStreetMap are also available in the [CGS quilt bucket](https://open.quiltdata.com/b/spatial-ucr/tree/osm/) (named by CBSA FIPS code)"
   ]
  },
  {
   "cell_type": "code",
   "execution_count": 10,
   "id": "8f6719b3",
   "metadata": {},
   "outputs": [
    {
     "name": "stdout",
     "output_type": "stream",
     "text": [
      "Generating contraction hierarchies with 8 threads.\n",
      "Setting CH node vector of size 377311\n",
      "Setting CH edge vector of size 588982\n",
      "Range graph removed 163420 edges of 1177964\n",
      ". 10% . 20% . 30% . 40% . 50% . 60% . 70% . 80% . 90% . 100%\n"
     ]
    }
   ],
   "source": [
    "net = pdna.Network.from_hdf5('40900.h5')"
   ]
  },
  {
   "cell_type": "code",
   "execution_count": 11,
   "id": "10c3dd32",
   "metadata": {},
   "outputs": [
    {
     "name": "stderr",
     "output_type": "stream",
     "text": [
      "OMP: Info #276: omp_set_nested routine deprecated, please use omp_set_max_active_levels instead.\n"
     ]
    }
   ],
   "source": [
    "network_spatialgini = Gini(sacramento, group_pop_var='BLACK', \n",
    "                           total_pop_var='TOT_POP', distance=2000, \n",
    "                           network=net, decay='linear')"
   ]
  },
  {
   "cell_type": "markdown",
   "id": "28e6836d",
   "metadata": {},
   "source": [
    "Comparing spatial gini indices based on straight-line distance versus network distance:"
   ]
  },
  {
   "cell_type": "code",
   "execution_count": 12,
   "id": "a35705e4",
   "metadata": {},
   "outputs": [
    {
     "data": {
      "text/plain": [
       "0.0"
      ]
     },
     "execution_count": 12,
     "metadata": {},
     "output_type": "execute_result"
    }
   ],
   "source": [
    "network_spatialgini.statistic"
   ]
  },
  {
   "cell_type": "markdown",
   "id": "47f41b19",
   "metadata": {},
   "source": [
    "## Batch-Computing Single-Group Measures"
   ]
  },
  {
   "cell_type": "markdown",
   "id": "1cb6b272",
   "metadata": {},
   "source": [
    "To compute all single group indices in one go, the package provides a wrapper function in the `batch` module"
   ]
  },
  {
   "cell_type": "code",
   "execution_count": 13,
   "id": "e3d17ec8",
   "metadata": {},
   "outputs": [],
   "source": [
    "from segregation.batch import batch_compute_singlegroup"
   ]
  },
  {
   "cell_type": "code",
   "execution_count": 14,
   "id": "5a270c91",
   "metadata": {},
   "outputs": [
    {
     "data": {
      "application/vnd.jupyter.widget-view+json": {
       "model_id": "74808a85e49b4ae2bb2d326192c567b9",
       "version_major": 2,
       "version_minor": 0
      },
      "text/plain": [
       "  0%|          | 0/27 [00:00<?, ?it/s]"
      ]
     },
     "metadata": {},
     "output_type": "display_data"
    }
   ],
   "source": [
    "all_singlegroup = batch_compute_singlegroup(sacramento, group_pop_var='BLACK', total_pop_var='TOT_POP')"
   ]
  },
  {
   "cell_type": "code",
   "execution_count": 15,
   "id": "4e239599",
   "metadata": {},
   "outputs": [
    {
     "data": {
      "text/html": [
       "<div>\n",
       "<style scoped>\n",
       "    .dataframe tbody tr th:only-of-type {\n",
       "        vertical-align: middle;\n",
       "    }\n",
       "\n",
       "    .dataframe tbody tr th {\n",
       "        vertical-align: top;\n",
       "    }\n",
       "\n",
       "    .dataframe thead th {\n",
       "        text-align: right;\n",
       "    }\n",
       "</style>\n",
       "<table border=\"1\" class=\"dataframe\">\n",
       "  <thead>\n",
       "    <tr style=\"text-align: right;\">\n",
       "      <th></th>\n",
       "      <th>Statistic</th>\n",
       "    </tr>\n",
       "    <tr>\n",
       "      <th>Name</th>\n",
       "      <th></th>\n",
       "    </tr>\n",
       "  </thead>\n",
       "  <tbody>\n",
       "    <tr>\n",
       "      <th>AbsoluteCentralization</th>\n",
       "      <td>0.8492</td>\n",
       "    </tr>\n",
       "    <tr>\n",
       "      <th>AbsoluteClustering</th>\n",
       "      <td>0.0610</td>\n",
       "    </tr>\n",
       "    <tr>\n",
       "      <th>AbsoluteConcentration</th>\n",
       "      <td>0.9814</td>\n",
       "    </tr>\n",
       "    <tr>\n",
       "      <th>Atkinson</th>\n",
       "      <td>0.3659</td>\n",
       "    </tr>\n",
       "    <tr>\n",
       "      <th>BiasCorrectedDissim</th>\n",
       "      <td>0.4876</td>\n",
       "    </tr>\n",
       "    <tr>\n",
       "      <th>BoundarySpatialDissim</th>\n",
       "      <td>0.4501</td>\n",
       "    </tr>\n",
       "    <tr>\n",
       "      <th>ConProf</th>\n",
       "      <td>0.1128</td>\n",
       "    </tr>\n",
       "    <tr>\n",
       "      <th>CorrelationR</th>\n",
       "      <td>0.1010</td>\n",
       "    </tr>\n",
       "    <tr>\n",
       "      <th>Delta</th>\n",
       "      <td>0.9073</td>\n",
       "    </tr>\n",
       "    <tr>\n",
       "      <th>DensityCorrectedDissim</th>\n",
       "      <td>0.3352</td>\n",
       "    </tr>\n",
       "    <tr>\n",
       "      <th>Dissim</th>\n",
       "      <td>0.4883</td>\n",
       "    </tr>\n",
       "    <tr>\n",
       "      <th>DistanceDecayInteraction</th>\n",
       "      <td>0.8524</td>\n",
       "    </tr>\n",
       "    <tr>\n",
       "      <th>DistanceDecayIsolation</th>\n",
       "      <td>0.1233</td>\n",
       "    </tr>\n",
       "    <tr>\n",
       "      <th>Entropy</th>\n",
       "      <td>0.1815</td>\n",
       "    </tr>\n",
       "    <tr>\n",
       "      <th>Gini</th>\n",
       "      <td>0.6362</td>\n",
       "    </tr>\n",
       "    <tr>\n",
       "      <th>Interaction</th>\n",
       "      <td>0.8379</td>\n",
       "    </tr>\n",
       "    <tr>\n",
       "      <th>Isolation</th>\n",
       "      <td>0.1621</td>\n",
       "    </tr>\n",
       "    <tr>\n",
       "      <th>MinMax</th>\n",
       "      <td>0.6562</td>\n",
       "    </tr>\n",
       "    <tr>\n",
       "      <th>ModifiedDissim</th>\n",
       "      <td>0.4763</td>\n",
       "    </tr>\n",
       "    <tr>\n",
       "      <th>ModifiedGini</th>\n",
       "      <td>0.6237</td>\n",
       "    </tr>\n",
       "    <tr>\n",
       "      <th>PARDissim</th>\n",
       "      <td>0.4818</td>\n",
       "    </tr>\n",
       "    <tr>\n",
       "      <th>RelativeCentralization</th>\n",
       "      <td>0.0769</td>\n",
       "    </tr>\n",
       "    <tr>\n",
       "      <th>RelativeClustering</th>\n",
       "      <td>1.6101</td>\n",
       "    </tr>\n",
       "    <tr>\n",
       "      <th>RelativeConcentration</th>\n",
       "      <td>0.7788</td>\n",
       "    </tr>\n",
       "    <tr>\n",
       "      <th>SpatialDissim</th>\n",
       "      <td>0.4463</td>\n",
       "    </tr>\n",
       "    <tr>\n",
       "      <th>SpatialProxProf</th>\n",
       "      <td>0.1160</td>\n",
       "    </tr>\n",
       "    <tr>\n",
       "      <th>SpatialProximity</th>\n",
       "      <td>1.0552</td>\n",
       "    </tr>\n",
       "  </tbody>\n",
       "</table>\n",
       "</div>"
      ],
      "text/plain": [
       "                          Statistic\n",
       "Name                               \n",
       "AbsoluteCentralization       0.8492\n",
       "AbsoluteClustering           0.0610\n",
       "AbsoluteConcentration        0.9814\n",
       "Atkinson                     0.3659\n",
       "BiasCorrectedDissim          0.4876\n",
       "BoundarySpatialDissim        0.4501\n",
       "ConProf                      0.1128\n",
       "CorrelationR                 0.1010\n",
       "Delta                        0.9073\n",
       "DensityCorrectedDissim       0.3352\n",
       "Dissim                       0.4883\n",
       "DistanceDecayInteraction     0.8524\n",
       "DistanceDecayIsolation       0.1233\n",
       "Entropy                      0.1815\n",
       "Gini                         0.6362\n",
       "Interaction                  0.8379\n",
       "Isolation                    0.1621\n",
       "MinMax                       0.6562\n",
       "ModifiedDissim               0.4763\n",
       "ModifiedGini                 0.6237\n",
       "PARDissim                    0.4818\n",
       "RelativeCentralization       0.0769\n",
       "RelativeClustering           1.6101\n",
       "RelativeConcentration        0.7788\n",
       "SpatialDissim                0.4463\n",
       "SpatialProxProf              0.1160\n",
       "SpatialProximity             1.0552"
      ]
     },
     "execution_count": 15,
     "metadata": {},
     "output_type": "execute_result"
    }
   ],
   "source": [
    "all_singlegroup"
   ]
  },
  {
   "cell_type": "markdown",
   "id": "05a90bdc",
   "metadata": {},
   "source": [
    "# Multiscalar Segregation Profiles"
   ]
  },
  {
   "cell_type": "markdown",
   "id": "49476d5f",
   "metadata": {},
   "source": [
    "For measuring spatial segregation dynamics, the `segregation` package provides a function for measuring multiscalar segregation profiles, as introduced by [Reardon et al](http://link.springer.com/10.1353/dem.0.0019).\n",
    "The multiscalar profile is a tool for measuring spatial segregation dynamics--the way that a segregation index changes values as the concept of a neighborhood changes, and what that tells us about macro versus micro patterns of segregation. "
   ]
  },
  {
   "cell_type": "markdown",
   "id": "bb98f9c6",
   "metadata": {},
   "source": [
    "The basic idea is to calculate a segregation statistic, then expand the spatial scope of a neighborhood, recalculate the statistic, and repeat. \n",
    "A multiscalar profile can be computed for any generalized spatial segregation index, which in the case of the `segregation` package, means a total of 23 indices, including single and multigroup varieties"
   ]
  },
  {
   "cell_type": "code",
   "execution_count": 16,
   "id": "5acc81bd",
   "metadata": {},
   "outputs": [],
   "source": [
    "from segregation.singlegroup import Dissim, Gini\n",
    "from segregation.dynamics import compute_multiscalar_profile\n",
    "from segregation.batch import implicit_multi_indices, implicit_single_indices"
   ]
  },
  {
   "cell_type": "code",
   "execution_count": 17,
   "id": "84be4a9a",
   "metadata": {},
   "outputs": [
    {
     "data": {
      "text/plain": [
       "23"
      ]
     },
     "execution_count": 17,
     "metadata": {},
     "output_type": "execute_result"
    }
   ],
   "source": [
    "len(implicit_single_indices) + len(implicit_multi_indices)"
   ]
  },
  {
   "cell_type": "code",
   "execution_count": 18,
   "id": "22448056",
   "metadata": {},
   "outputs": [],
   "source": [
    "sac_gini_profile =  compute_multiscalar_profile(sacramento, segregation_index=Gini, \n",
    "                                                group_pop_var=\"BLACK\", total_pop_var=\"TOT_POP\", \n",
    "                                                distances= range(500,5500,500))"
   ]
  },
  {
   "cell_type": "markdown",
   "id": "72548c17",
   "metadata": {},
   "source": [
    "The function returns a pandas Series whose index is the neighborhood distance threshold, and the value is the segregation statistic."
   ]
  },
  {
   "cell_type": "code",
   "execution_count": 19,
   "id": "4b5fa9d5",
   "metadata": {},
   "outputs": [
    {
     "data": {
      "text/plain": [
       "distance\n",
       "0       0.636176\n",
       "500     0.636060\n",
       "1000    0.623794\n",
       "1500    0.585519\n",
       "2000    0.536802\n",
       "2500    0.499355\n",
       "3000    0.472811\n",
       "3500    0.452414\n",
       "4000    0.436664\n",
       "4500    0.424351\n",
       "5000    0.412981\n",
       "Name: Gini, dtype: float64"
      ]
     },
     "execution_count": 19,
     "metadata": {},
     "output_type": "execute_result"
    }
   ],
   "source": [
    "sac_gini_profile"
   ]
  },
  {
   "cell_type": "markdown",
   "id": "f894cbd7",
   "metadata": {},
   "source": [
    "As such, the profile is easy to plot:"
   ]
  },
  {
   "cell_type": "code",
   "execution_count": 20,
   "id": "523a0dad",
   "metadata": {},
   "outputs": [
    {
     "data": {
      "text/plain": [
       "<Axes: xlabel='distance'>"
      ]
     },
     "execution_count": 20,
     "metadata": {},
     "output_type": "execute_result"
    },
    {
     "data": {
      "image/png": "[encoded data removed]",
      "text/plain": [
       "<Figure size 640x480 with 1 Axes>"
      ]
     },
     "metadata": {},
     "output_type": "display_data"
    }
   ],
   "source": [
    "sac_gini_profile.plot()"
   ]
  },
  {
   "cell_type": "markdown",
   "id": "4525abf4",
   "metadata": {},
   "source": [
    "A good way to compare multiscalar profiles is to plot them in the same figure. For example to compare profiles for gini and dissimilarity indices:"
   ]
  },
  {
   "cell_type": "code",
   "execution_count": 21,
   "id": "4f5772aa",
   "metadata": {},
   "outputs": [],
   "source": [
    "sac_dissim_profile = compute_multiscalar_profile(sacramento, segregation_index=Dissim,\n",
    "                                                group_pop_var=\"BLACK\", total_pop_var=\"TOT_POP\", \n",
    "                                                distances= range(500,5500,500))"
   ]
  },
  {
   "cell_type": "code",
   "execution_count": 22,
   "id": "26643310",
   "metadata": {},
   "outputs": [],
   "source": [
    "from libpysal.weights import DistanceBand"
   ]
  },
  {
   "cell_type": "code",
   "execution_count": 23,
   "id": "f26c71d8",
   "metadata": {},
   "outputs": [
    {
     "data": {
      "text/plain": [
       "<matplotlib.legend.Legend at 0x3065029a0>"
      ]
     },
     "execution_count": 23,
     "metadata": {},
     "output_type": "execute_result"
    },
    {
     "data": {
      "image/png": "[encoded data removed]",
      "text/plain": [
       "<Figure size 800x800 with 1 Axes>"
      ]
     },
     "metadata": {},
     "output_type": "display_data"
    }
   ],
   "source": [
    "fig, ax = plt.subplots(figsize=(8,8))\n",
    "\n",
    "sac_dissim_profile.plot(ax=ax)\n",
    "sac_gini_profile.plot(ax=ax)\n",
    "ax.legend()"
   ]
  },
  {
   "cell_type": "markdown",
   "id": "b8f0b12c",
   "metadata": {},
   "source": [
    "The multiscalar profiles for Gini and Dissimilarity indices are very similar, but have slightly different shapes. "
   ]
  },
  {
   "cell_type": "markdown",
   "id": "0cf5801a",
   "metadata": {},
   "source": [
    "### Network versus Euclidian Multiscalar Profiles"
   ]
  },
  {
   "cell_type": "markdown",
   "id": "4a2c186b",
   "metadata": {},
   "source": [
    "To calculate a multiscalar profile using travel network distance instead of Euclidian distance, simply pass a `pandana.Network` object to the function"
   ]
  },
  {
   "cell_type": "code",
   "execution_count": 24,
   "id": "25b1493d",
   "metadata": {},
   "outputs": [],
   "source": [
    "import pandana as pdna"
   ]
  },
  {
   "cell_type": "markdown",
   "id": "6edde14b",
   "metadata": {},
   "source": [
    "However, due to the lengthy computation time, I have turned off the execution of this section. I've included the code for your reference."
   ]
  },
  {
   "cell_type": "code",
   "execution_count": 32,
   "id": "4c7010f0",
   "metadata": {},
   "outputs": [],
   "source": [
    "#net = pdna.Network.from_hdf5(\"40900.h5\")"
   ]
  },
  {
   "cell_type": "code",
   "execution_count": 27,
   "id": "26556be2",
   "metadata": {},
   "outputs": [],
   "source": [
    "#net_dissim_profile = compute_multiscalar_profile(sacramento, segregation_index=Dissim,\n",
    "                                                #group_pop_var=\"BLACK\", total_pop_var=\"TOT_POP\", \n",
    "                                                #network = net,\n",
    "                                                #distances= range(500,5500,500))"
   ]
  },
  {
   "cell_type": "code",
   "execution_count": 28,
   "id": "eeeba6f9",
   "metadata": {},
   "outputs": [],
   "source": [
    "#fig, ax = plt.subplots(figsize=(8,8))\n",
    "\n",
    "#sac_dissim_profile.name='Dissim'\n",
    "#net_dissim_profile.name='Network Dissim'\n",
    "#sac_dissim_profile.plot(ax=ax)\n",
    "#net_dissim_profile.plot(ax=ax)\n",
    "#ax.legend()"
   ]
  },
  {
   "cell_type": "markdown",
   "id": "1f053550",
   "metadata": {},
   "source": [
    "In this case, comparing the two profiles reveals the role of travel infrastructure on the experience and measurement of segregation; the network-based dissimilarity profile falls slower, indicating that travel networks help insulate segregation at larger distances"
   ]
  },
  {
   "cell_type": "markdown",
   "id": "f77a3523",
   "metadata": {},
   "source": [
    "## Computing a Multi Group Profile"
   ]
  },
  {
   "cell_type": "markdown",
   "id": "c0207a4d",
   "metadata": {},
   "source": [
    "To calculate a multigroup index (e.g. the multigroup information theory index from the original paper), simply pass a MultiGroupIndex class to the function with multigroup arguments instead of singlegroup"
   ]
  },
  {
   "cell_type": "code",
   "execution_count": 29,
   "id": "933b3095",
   "metadata": {},
   "outputs": [],
   "source": [
    "from segregation.multigroup import MultiInfoTheory, MultiGini"
   ]
  },
  {
   "cell_type": "code",
   "execution_count": 30,
   "id": "da602644",
   "metadata": {},
   "outputs": [],
   "source": [
    "multi_info_profile = compute_multiscalar_profile(sacramento, segregation_index=MultiInfoTheory, \n",
    "                                          groups=[\"HISP\", 'BLACK', \"WHITE\"], distances=range(500,5000,500))\n",
    "\n",
    "multi_gini_profile = compute_multiscalar_profile(sacramento, segregation_index=MultiGini, \n",
    "                                          groups=[\"HISP\", 'BLACK', \"WHITE\"], distances=range(500,5000,500))"
   ]
  },
  {
   "cell_type": "code",
   "execution_count": 31,
   "id": "4e1bd9eb",
   "metadata": {},
   "outputs": [
    {
     "data": {
      "text/plain": [
       "<matplotlib.legend.Legend at 0x311124790>"
      ]
     },
     "execution_count": 31,
     "metadata": {},
     "output_type": "execute_result"
    },
    {
     "data": {
      "image/png": "[encoded data removed]",
      "text/plain": [
       "<Figure size 800x800 with 1 Axes>"
      ]
     },
     "metadata": {},
     "output_type": "display_data"
    }
   ],
   "source": [
    "fig, ax = plt.subplots(figsize=(8,8))\n",
    "\n",
    "multi_gini_profile.plot(ax=ax)\n",
    "multi_info_profile.plot(ax=ax)\n",
    "ax.legend()"
   ]
  }
 ],
 "metadata": {
  "kernelspec": {
   "display_name": "gds_py",
   "language": "python",
   "name": "python3"
  },
  "language_info": {
   "codemirror_mode": {
    "name": "ipython",
    "version": 3
   },
   "file_extension": ".py",
   "mimetype": "text/x-python",
   "name": "python",
   "nbconvert_exporter": "python",
   "pygments_lexer": "ipython3",
   "version": "3.9.18"
  },
  "widgets": {
   "application/vnd.jupyter.widget-state+json": {
    "state": {},
    "version_major": 2,
    "version_minor": 0
   }
  }
 },
 "nbformat": 4,
 "nbformat_minor": 5
}
